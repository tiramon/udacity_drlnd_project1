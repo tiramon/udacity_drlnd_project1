{
 "cells": [
  {
   "cell_type": "code",
   "execution_count": 1,
   "metadata": {},
   "outputs": [
    {
     "name": "stderr",
     "output_type": "stream",
     "text": [
      "INFO:unityagents:\n",
      "'Academy' started successfully!\n",
      "Unity Academy name: Academy\n",
      "        Number of Brains: 1\n",
      "        Number of External Brains : 1\n",
      "        Lesson number : 0\n",
      "        Reset Parameters :\n",
      "\t\t\n",
      "Unity brain name: BananaBrain\n",
      "        Number of Visual Observations (per agent): 0\n",
      "        Vector Observation space type: continuous\n",
      "        Vector Observation space size (per agent): 37\n",
      "        Number of stacked Vector Observation: 1\n",
      "        Vector Action space type: discrete\n",
      "        Vector Action space size (per agent): 4\n",
      "        Vector Action descriptions: , , , \n"
     ]
    }
   ],
   "source": [
    "from unityagents import UnityEnvironment\n",
    "import numpy as np\n",
    "from collections import deque\n",
    "import torch\n",
    "import datetime\n",
    "import matplotlib.pyplot as plt\n",
    "%matplotlib inline\n",
    "\n",
    "env = UnityEnvironment(file_name=\"Banana_Windows_x86_64/Banana.exe\",no_graphics=True, seed=40)\n",
    "brain_name = env.brain_names[0]\n",
    "brain = env.brains[brain_name]\n",
    "\n",
    "action_size = brain.vector_action_space_size\n",
    "env_info = env.reset(train_mode=True)[brain_name]\n",
    "state = env_info.vector_observations[0]\n",
    "state_size = len(state)\n"
   ]
  },
  {
   "cell_type": "code",
   "execution_count": 2,
   "metadata": {},
   "outputs": [],
   "source": [
    "def dqn(n_episodes=2000, max_t=1000, eps_start=1.0, eps_end=0.01, eps_decay=0.995):\n",
    "    \"\"\"Deep Q-Learning.\n",
    "    \n",
    "    Params\n",
    "    ======\n",
    "        n_episodes (int): maximum number of training episodes\n",
    "        max_t (int): maximum number of timesteps per episode\n",
    "        eps_start (float): starting value of epsilon, for epsilon-greedy action selection\n",
    "        eps_end (float): minimum value of epsilon\n",
    "        eps_decay (float): multiplicative factor (per episode) for decreasing epsilon\n",
    "    \"\"\"\n",
    "    scores = []                        # list containing scores from each episode\n",
    "    scores_window = deque(maxlen=100)  # last 100 scores\n",
    "    scores_avg = []\n",
    "    scores_avg_steps = deque(maxlen=100)\n",
    "    times = []                        # list containing scores from each episode\n",
    "    times_window = deque(maxlen=100)  # last 100 scores\n",
    "    eps = eps_start                   # initialize epsilon\n",
    "    actionC = 0\n",
    "    solved_in = 0\n",
    "    for i_episode in range(1, n_episodes+1):\n",
    "        start = datetime.datetime.now()\n",
    "        env_info = env.reset(train_mode=True)[brain_name]\n",
    "        state = env_info.vector_observations[0]       \n",
    "        score = 0        \n",
    "        while True:\n",
    "            action = agent.act(state, eps)\n",
    "            \n",
    "            env_info = env.step(action)[brain_name]\n",
    "            next_state = env_info.vector_observations[0]   # get the next state\n",
    "            reward = env_info.rewards[0]                   # get the reward\n",
    "            done = env_info.local_done[0] \n",
    "            agent.step(state, action, reward, next_state, done)\n",
    "            state = next_state\n",
    "            score += reward\n",
    "            if done:\n",
    "                break \n",
    "                \n",
    "        scores_window.append(score)       # save most recent score\n",
    "        scores.append(score)              # save most recent score\n",
    "        eps = max(eps_end, eps_decay*eps) # decrease epsilon\n",
    "        time =  datetime.datetime.now() -start\n",
    "        times.append(time)\n",
    "        times_window.append(time)\n",
    "        \n",
    "        avg_score = np.mean(scores_window)\n",
    "        avg_time = np.mean(times_window)\n",
    "        scores_avg.append(avg_score)\n",
    "        print('\\rEpisode {}\\tAverage Score: {:.2f}\\tAverage time/eps: {:s}'.format(i_episode, avg_score,str(avg_time)), end=\"\")\n",
    "        if i_episode % 100 == 0:\n",
    "            print('\\rEpisode {}\\tAverage Score: {:.2f}\\tAverage time/eps: {:s}'.format(i_episode,avg_score,str(avg_time)))\n",
    "            scores_avg_steps.append(avg_score)\n",
    "        if avg_score>=13.0 and solved_in == 0:\n",
    "            print('\\nEnvironment solved in {:d} episodes!\\tAverage Score: {:.2f}\\tAverage time/eps: {:s}'.format(i_episode-100, avg_score,str(avg_time)))\n",
    "            torch.save(agent.qnetwork_local.state_dict(), 'checkpoint_trained_{:d}_episodes.pth'.format(i_episode))\n",
    "            solved_in =  i_episode-100          \n",
    "    \n",
    "    return [scores, scores_avg, scores_avg_steps, solved_in]"
   ]
  },
  {
   "cell_type": "code",
   "execution_count": 3,
   "metadata": {},
   "outputs": [
    {
     "name": "stdout",
     "output_type": "stream",
     "text": [
      "Episode 100\tAverage Score: 0.34\tAverage time/eps: 0:00:00.800765\n",
      "Episode 200\tAverage Score: 3.07\tAverage time/eps: 0:00:00.809907\n",
      "Episode 300\tAverage Score: 6.60\tAverage time/eps: 0:00:00.862668\n",
      "Episode 400\tAverage Score: 10.01\tAverage time/eps: 0:00:00.838588\n",
      "Episode 500\tAverage Score: 12.56\tAverage time/eps: 0:00:00.839888\n",
      "Episode 519\tAverage Score: 13.06\tAverage time/eps: 0:00:00.842534\n",
      "Environment solved in 419 episodes!\tAverage Score: 13.06\tAverage time/eps: 0:00:00.842534\n",
      "Episode 600\tAverage Score: 15.05\tAverage time/eps: 0:00:00.843494\n",
      "Episode 700\tAverage Score: 15.47\tAverage time/eps: 0:00:00.848790\n",
      "Episode 800\tAverage Score: 15.31\tAverage time/eps: 0:00:00.842872\n",
      "Episode 900\tAverage Score: 16.13\tAverage time/eps: 0:00:00.841699\n",
      "Episode 1000\tAverage Score: 15.86\tAverage time/eps: 0:00:00.865449\n",
      "Episode 1100\tAverage Score: 16.53\tAverage time/eps: 0:00:00.862433\n",
      "Episode 1200\tAverage Score: 15.80\tAverage time/eps: 0:00:00.849974\n",
      "Episode 1300\tAverage Score: 16.36\tAverage time/eps: 0:00:00.841033\n",
      "Episode 1400\tAverage Score: 15.77\tAverage time/eps: 0:00:00.845511\n",
      "Episode 1500\tAverage Score: 15.76\tAverage time/eps: 0:00:00.821142\n"
     ]
    },
    {
     "data": {
      "image/png": "[encoded data removed]",
      "text/plain": [
       "<Figure size 432x288 with 1 Axes>"
      ]
     },
     "metadata": {
      "needs_background": "light"
     },
     "output_type": "display_data"
    },
    {
     "data": {
      "text/plain": [
       "<Figure size 432x288 with 0 Axes>"
      ]
     },
     "metadata": {},
     "output_type": "display_data"
    }
   ],
   "source": [
    "from dqn_agent import Agent\n",
    "\n",
    "agent = Agent(state_size, action_size, seed=4)\n",
    "scores, scores_avg, scores_avg_steps, solved_in = dqn(1500)\n",
    "\n",
    "env.close()\n",
    "\n",
    "\n",
    "# plot the scores\n",
    "fig = plt.figure()\n",
    "ax = fig.add_subplot(111)\n",
    "plt.plot(np.arange(len(scores)), scores)\n",
    "plt.ylabel('Score')\n",
    "plt.xlabel('Episode #')\n",
    "plt.show()\n",
    "plt.savefig('graph_trained_{:d}_episodes.png'.format(len(scores)))"
   ]
  },
  {
   "cell_type": "code",
   "execution_count": null,
   "metadata": {},
   "outputs": [],
   "source": []
  }
 ],
 "metadata": {
  "kernelspec": {
   "display_name": "drlnd2",
   "language": "python",
   "name": "drlnd2"
  },
  "language_info": {
   "codemirror_mode": {
    "name": "ipython",
    "version": 3
   },
   "file_extension": ".py",
   "mimetype": "text/x-python",
   "name": "python",
   "nbconvert_exporter": "python",
   "pygments_lexer": "ipython3",
   "version": "3.6.10"
  }
 },
 "nbformat": 4,
 "nbformat_minor": 4
}
