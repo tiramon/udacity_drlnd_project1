{
 "cells": [
  {
   "cell_type": "code",
   "execution_count": 1,
   "metadata": {},
   "outputs": [
    {
     "name": "stderr",
     "output_type": "stream",
     "text": [
      "INFO:unityagents:\n",
      "'Academy' started successfully!\n",
      "Unity Academy name: Academy\n",
      "        Number of Brains: 1\n",
      "        Number of External Brains : 1\n",
      "        Lesson number : 0\n",
      "        Reset Parameters :\n",
      "\t\t\n",
      "Unity brain name: BananaBrain\n",
      "        Number of Visual Observations (per agent): 0\n",
      "        Vector Observation space type: continuous\n",
      "        Vector Observation space size (per agent): 37\n",
      "        Number of stacked Vector Observation: 1\n",
      "        Vector Action space type: discrete\n",
      "        Vector Action space size (per agent): 4\n",
      "        Vector Action descriptions: , , , \n"
     ]
    }
   ],
   "source": [
    "from unityagents import UnityEnvironment\n",
    "import numpy as np\n",
    "from collections import deque\n",
    "import torch\n",
    "import matplotlib.pyplot as plt\n",
    "%matplotlib inline\n",
    "\n",
    "env = UnityEnvironment(file_name=\"Banana_Windows_x86_64/Banana.exe\",no_graphics=True)\n",
    "brain_name = env.brain_names[0]\n",
    "brain = env.brains[brain_name]\n",
    "\n",
    "action_size = brain.vector_action_space_size\n",
    "env_info = env.reset(train_mode=True)[brain_name]\n",
    "state = env_info.vector_observations[0]\n",
    "state_size = len(state)"
   ]
  },
  {
   "cell_type": "code",
   "execution_count": 2,
   "metadata": {},
   "outputs": [],
   "source": [
    "from dqn_agent import Agent\n",
    "\n",
    "agent = Agent(state_size, action_size, seed=0)\n",
    "agent.qnetwork_local.load_state_dict(torch.load('./weights/checkpoint_trained_519_episodes.pth'))"
   ]
  },
  {
   "cell_type": "code",
   "execution_count": 3,
   "metadata": {},
   "outputs": [],
   "source": [
    "def run(n_episodes=2000):\n",
    "    scores = []                        # list containing scores from each episode\n",
    "    scores_window = deque(maxlen=100)  # last 100 scores\n",
    "    moves = []                        # list containing scores from each episode\n",
    "    moves_window = deque(maxlen=100) \n",
    "    for i_episode in range(1, n_episodes+1):\n",
    "        #print(\"****EPISODE******\",i_episode)\n",
    "        env_info = env.reset(train_mode=True)[brain_name]\n",
    "        #print()\n",
    "        #print(\"****RESET*****\")\n",
    "        state = env_info.vector_observations[0]       \n",
    "        score = 0\n",
    "        move = 0\n",
    "        while True:\n",
    "            action = agent.act(state)\n",
    "            env_info = env.step(action)[brain_name]\n",
    "            next_state = env_info.vector_observations[0]   # get the next state\n",
    "            reward = env_info.rewards[0]                   # get the reward\n",
    "            done = env_info.local_done[0] \n",
    "            state = next_state\n",
    "            score += reward\n",
    "            move += 1\n",
    "            if done:\n",
    "                #print(\"*****DONE*******\")\n",
    "                break \n",
    "        scores_window.append(score)       # save most recent score\n",
    "        scores.append(score)              # save most recent score\n",
    "        moves_window.append(move)       # save most recent score\n",
    "        moves.append(move)   \n",
    "        \n",
    "        print('\\rEpisode {}\\tAverage Score: {:.2f} Average Moves: {:.2f}'.format(i_episode, np.mean(scores_window),np.mean(moves_window)), end=\"\")\n",
    "        if i_episode % 100 == 0:\n",
    "            print('\\rEpisode {}\\tAverage Score: {:.2f} Average Moves: {:.2f}'.format(i_episode, np.mean(scores_window),np.mean(moves_window)))\n",
    "        \n",
    "    return scores"
   ]
  },
  {
   "cell_type": "code",
   "execution_count": 4,
   "metadata": {},
   "outputs": [
    {
     "name": "stdout",
     "output_type": "stream",
     "text": [
      "Episode 100\tAverage Score: 11.41 Average Moves: 300.00\n",
      "Episode 200\tAverage Score: 11.51 Average Moves: 300.00\n",
      "Episode 300\tAverage Score: 11.41 Average Moves: 300.00\n",
      "Episode 400\tAverage Score: 12.00 Average Moves: 300.00\n",
      "Episode 500\tAverage Score: 10.77 Average Moves: 300.00\n",
      "Episode 600\tAverage Score: 11.59 Average Moves: 300.00\n",
      "Episode 700\tAverage Score: 11.52 Average Moves: 300.00\n",
      "Episode 800\tAverage Score: 11.42 Average Moves: 300.00\n",
      "Episode 900\tAverage Score: 10.53 Average Moves: 300.00\n",
      "Episode 1000\tAverage Score: 11.06 Average Moves: 300.00\n",
      "Episode 1100\tAverage Score: 10.49 Average Moves: 300.00\n",
      "Episode 1200\tAverage Score: 10.07 Average Moves: 300.00\n",
      "Episode 1300\tAverage Score: 11.72 Average Moves: 300.00\n",
      "Episode 1400\tAverage Score: 10.77 Average Moves: 300.00\n",
      "Episode 1500\tAverage Score: 10.95 Average Moves: 300.00\n"
     ]
    },
    {
     "data": {
      "image/png": "[encoded data removed]",
      "text/plain": [
       "<Figure size 432x288 with 1 Axes>"
      ]
     },
     "metadata": {
      "needs_background": "light"
     },
     "output_type": "display_data"
    }
   ],
   "source": [
    "scores = run(1500)\n",
    "env.close()\n",
    "\n",
    "# plot the scores\n",
    "fig = plt.figure()\n",
    "ax = fig.add_subplot(111)\n",
    "plt.plot(np.arange(len(scores)), scores)\n",
    "plt.ylabel('Score')\n",
    "plt.xlabel('Episode #')\n",
    "plt.show()"
   ]
  },
  {
   "cell_type": "code",
   "execution_count": null,
   "metadata": {},
   "outputs": [],
   "source": []
  }
 ],
 "metadata": {
  "kernelspec": {
   "display_name": "drlnd2",
   "language": "python",
   "name": "drlnd2"
  },
  "language_info": {
   "codemirror_mode": {
    "name": "ipython",
    "version": 3
   },
   "file_extension": ".py",
   "mimetype": "text/x-python",
   "name": "python",
   "nbconvert_exporter": "python",
   "pygments_lexer": "ipython3",
   "version": "3.6.10"
  }
 },
 "nbformat": 4,
 "nbformat_minor": 4
}
